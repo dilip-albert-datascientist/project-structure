{
 "cells": [
  {
   "cell_type": "code",
   "execution_count": 2,
   "metadata": {},
   "outputs": [],
   "source": [
    "# Show ALL outputs in cell, not only last result\n",
    "from IPython.core.interactiveshell import InteractiveShell\n",
    "InteractiveShell.ast_node_interactivity = \"all\""
   ]
  },
  {
   "cell_type": "code",
   "execution_count": 3,
   "metadata": {},
   "outputs": [],
   "source": [
    "relative_filepath = \"../../\""
   ]
  },
  {
   "cell_type": "code",
   "execution_count": 4,
   "metadata": {},
   "outputs": [],
   "source": [
    "# Set relative path mapping for module imports\n",
    "import sys\n",
    "\n",
    "sys.path.append(relative_filepath)\n",
    "\n",
    "#for path in sys.path:\n",
    "#    print(path)"
   ]
  },
  {
   "cell_type": "code",
   "execution_count": 5,
   "metadata": {},
   "outputs": [],
   "source": [
    "# External Dependencies\n",
    "import numpy as np\n",
    "import pandas as pd"
   ]
  },
  {
   "cell_type": "code",
   "execution_count": 6,
   "metadata": {},
   "outputs": [],
   "source": [
    "# Read in pickled combined data\n",
    "X_y_data = pd.read_pickle(relative_filepath + \"data/interim/X_y_data.pkl\")\n",
    "X_combined = pd.read_pickle(relative_filepath + \"data/interim/X_combined.pkl\")\n",
    "y_combined = pd.read_pickle(relative_filepath + \"data/interim/y_combined.pkl\")\n",
    "\n",
    "# Read in pickled train data\n",
    "X_y_train = pd.read_pickle(relative_filepath + \"data/interim/X_y_train.pkl\")\n",
    "X_train = pd.read_pickle(relative_filepath + \"data/interim/X_train.pkl\")\n",
    "y_train = pd.read_pickle(relative_filepath + \"data/interim/y_train.pkl\")\n",
    "\n",
    "# Read in pickled test data\n",
    "X_y_test = pd.read_pickle(relative_filepath + \"data/interim/X_y_test.pkl\")\n",
    "X_test = pd.read_pickle(relative_filepath + \"data/interim/X_test.pkl\")\n",
    "y_test = pd.read_pickle(relative_filepath + \"data/interim/y_test.pkl\")"
   ]
  },
  {
   "cell_type": "code",
   "execution_count": 7,
   "metadata": {},
   "outputs": [
    {
     "data": {
      "text/html": [
       "<div>\n",
       "<style scoped>\n",
       "    .dataframe tbody tr th:only-of-type {\n",
       "        vertical-align: middle;\n",
       "    }\n",
       "\n",
       "    .dataframe tbody tr th {\n",
       "        vertical-align: top;\n",
       "    }\n",
       "\n",
       "    .dataframe thead th {\n",
       "        text-align: right;\n",
       "    }\n",
       "</style>\n",
       "<table border=\"1\" class=\"dataframe\">\n",
       "  <thead>\n",
       "    <tr style=\"text-align: right;\">\n",
       "      <th></th>\n",
       "      <th>v1</th>\n",
       "      <th>v2</th>\n",
       "      <th>v3</th>\n",
       "      <th>v4</th>\n",
       "      <th>v5</th>\n",
       "      <th>v6</th>\n",
       "      <th>v7</th>\n",
       "      <th>v8</th>\n",
       "      <th>v9</th>\n",
       "      <th>v10</th>\n",
       "      <th>v11</th>\n",
       "      <th>v12</th>\n",
       "      <th>v13</th>\n",
       "      <th>v14</th>\n",
       "      <th>v15</th>\n",
       "      <th>v16</th>\n",
       "      <th>v17</th>\n",
       "      <th>classLabel</th>\n",
       "    </tr>\n",
       "  </thead>\n",
       "  <tbody>\n",
       "    <tr>\n",
       "      <th>0</th>\n",
       "      <td>a</td>\n",
       "      <td>17,92</td>\n",
       "      <td>5,4e-05</td>\n",
       "      <td>u</td>\n",
       "      <td>-0,840182024985552</td>\n",
       "      <td>0,522882590622095</td>\n",
       "      <td>1,75</td>\n",
       "      <td>f</td>\n",
       "      <td>t</td>\n",
       "      <td>1</td>\n",
       "      <td>t</td>\n",
       "      <td>g</td>\n",
       "      <td>80.0</td>\n",
       "      <td>5</td>\n",
       "      <td>800000</td>\n",
       "      <td>t</td>\n",
       "      <td>0</td>\n",
       "      <td>no.</td>\n",
       "    </tr>\n",
       "    <tr>\n",
       "      <th>1</th>\n",
       "      <td>b</td>\n",
       "      <td>16,92</td>\n",
       "      <td>3,35e-05</td>\n",
       "      <td>y</td>\n",
       "      <td>-2,15963506605476</td>\n",
       "      <td>0,774187133555115</td>\n",
       "      <td>0,29</td>\n",
       "      <td>f</td>\n",
       "      <td>f</td>\n",
       "      <td>0</td>\n",
       "      <td>f</td>\n",
       "      <td>s</td>\n",
       "      <td>200.0</td>\n",
       "      <td>0</td>\n",
       "      <td>2e+06</td>\n",
       "      <td>NaN</td>\n",
       "      <td>0</td>\n",
       "      <td>no.</td>\n",
       "    </tr>\n",
       "    <tr>\n",
       "      <th>2</th>\n",
       "      <td>b</td>\n",
       "      <td>31,25</td>\n",
       "      <td>0,0001125</td>\n",
       "      <td>u</td>\n",
       "      <td>1,75068668089807</td>\n",
       "      <td>0,76036270650308</td>\n",
       "      <td>0</td>\n",
       "      <td>f</td>\n",
       "      <td>t</td>\n",
       "      <td>1</td>\n",
       "      <td>f</td>\n",
       "      <td>g</td>\n",
       "      <td>96.0</td>\n",
       "      <td>19</td>\n",
       "      <td>960000</td>\n",
       "      <td>t</td>\n",
       "      <td>0</td>\n",
       "      <td>no.</td>\n",
       "    </tr>\n",
       "    <tr>\n",
       "      <th>3</th>\n",
       "      <td>a</td>\n",
       "      <td>48,17</td>\n",
       "      <td>0,0001335</td>\n",
       "      <td>u</td>\n",
       "      <td>4,17487068567425</td>\n",
       "      <td>0,888963139486792</td>\n",
       "      <td>0,335</td>\n",
       "      <td>f</td>\n",
       "      <td>f</td>\n",
       "      <td>0</td>\n",
       "      <td>f</td>\n",
       "      <td>g</td>\n",
       "      <td>0.0</td>\n",
       "      <td>120</td>\n",
       "      <td>0</td>\n",
       "      <td>NaN</td>\n",
       "      <td>0</td>\n",
       "      <td>no.</td>\n",
       "    </tr>\n",
       "    <tr>\n",
       "      <th>4</th>\n",
       "      <td>b</td>\n",
       "      <td>32,33</td>\n",
       "      <td>0,00035</td>\n",
       "      <td>u</td>\n",
       "      <td>-3,78547915257514</td>\n",
       "      <td>0,489023844085239</td>\n",
       "      <td>0,5</td>\n",
       "      <td>f</td>\n",
       "      <td>f</td>\n",
       "      <td>0</td>\n",
       "      <td>t</td>\n",
       "      <td>g</td>\n",
       "      <td>232.0</td>\n",
       "      <td>0</td>\n",
       "      <td>2.32e+06</td>\n",
       "      <td>f</td>\n",
       "      <td>0</td>\n",
       "      <td>no.</td>\n",
       "    </tr>\n",
       "  </tbody>\n",
       "</table>\n",
       "</div>"
      ],
      "text/plain": [
       "  v1     v2         v3 v4                  v5                 v6     v7 v8 v9  \\\n",
       "0  a  17,92    5,4e-05  u  -0,840182024985552  0,522882590622095   1,75  f  t   \n",
       "1  b  16,92   3,35e-05  y   -2,15963506605476  0,774187133555115   0,29  f  f   \n",
       "2  b  31,25  0,0001125  u    1,75068668089807   0,76036270650308      0  f  t   \n",
       "3  a  48,17  0,0001335  u    4,17487068567425  0,888963139486792  0,335  f  f   \n",
       "4  b  32,33    0,00035  u   -3,78547915257514  0,489023844085239    0,5  f  f   \n",
       "\n",
       "   v10 v11 v12    v13  v14       v15  v16  v17 classLabel  \n",
       "0    1   t   g   80.0    5    800000    t    0        no.  \n",
       "1    0   f   s  200.0    0     2e+06  NaN    0        no.  \n",
       "2    1   f   g   96.0   19    960000    t    0        no.  \n",
       "3    0   f   g    0.0  120         0  NaN    0        no.  \n",
       "4    0   t   g  232.0    0  2.32e+06    f    0        no.  "
      ]
     },
     "execution_count": 7,
     "metadata": {},
     "output_type": "execute_result"
    },
    {
     "data": {
      "text/plain": [
       "(3900, 18)"
      ]
     },
     "execution_count": 7,
     "metadata": {},
     "output_type": "execute_result"
    }
   ],
   "source": [
    "# Recap data structure\n",
    "X_y_data.head()\n",
    "X_y_data.shape\n",
    "\n",
    "target = \"classLabel\"\n",
    "\n",
    "input_dfs = [X_y_data,\n",
    "             X_combined,\n",
    "             X_y_train,\n",
    "             X_train,\n",
    "             X_y_test,\n",
    "             X_test]"
   ]
  },
  {
   "cell_type": "code",
   "execution_count": null,
   "metadata": {},
   "outputs": [],
   "source": []
  },
  {
   "cell_type": "markdown",
   "metadata": {},
   "source": [
    "## d) Initial Data Preprocessing"
   ]
  },
  {
   "cell_type": "markdown",
   "metadata": {},
   "source": [
    "#### i) Encode target variable"
   ]
  },
  {
   "cell_type": "code",
   "execution_count": 8,
   "metadata": {},
   "outputs": [
    {
     "data": {
      "text/plain": [
       "LabelEncoder()"
      ]
     },
     "execution_count": 8,
     "metadata": {},
     "output_type": "execute_result"
    },
    {
     "data": {
      "text/plain": [
       "['no.', 'yes.']"
      ]
     },
     "execution_count": 8,
     "metadata": {},
     "output_type": "execute_result"
    },
    {
     "data": {
      "text/plain": [
       "['no.', 'yes.']"
      ]
     },
     "execution_count": 8,
     "metadata": {},
     "output_type": "execute_result"
    }
   ],
   "source": [
    "from sklearn import preprocessing\n",
    "\n",
    "le = preprocessing.LabelEncoder()\n",
    "le.fit(X_y_train[target])\n",
    "\n",
    "list(le.classes_)\n",
    "list(le.inverse_transform([0, 1]))\n",
    "\n",
    "X_y_data[target] = le.transform(X_y_data[target])\n",
    "y_combined = le.transform(y_combined)\n",
    "\n",
    "X_y_train[target] = le.transform(X_y_train[target])\n",
    "y_train = le.transform(y_train)\n",
    "\n",
    "X_y_test[target] = le.transform(X_y_test[target])\n",
    "y_test = le.transform(y_test)"
   ]
  },
  {
   "cell_type": "code",
   "execution_count": 9,
   "metadata": {},
   "outputs": [
    {
     "name": "stdout",
     "output_type": "stream",
     "text": [
      "### COMBINED ###\n"
     ]
    },
    {
     "data": {
      "text/html": [
       "<div>\n",
       "<style scoped>\n",
       "    .dataframe tbody tr th:only-of-type {\n",
       "        vertical-align: middle;\n",
       "    }\n",
       "\n",
       "    .dataframe tbody tr th {\n",
       "        vertical-align: top;\n",
       "    }\n",
       "\n",
       "    .dataframe thead th {\n",
       "        text-align: right;\n",
       "    }\n",
       "</style>\n",
       "<table border=\"1\" class=\"dataframe\">\n",
       "  <thead>\n",
       "    <tr style=\"text-align: right;\">\n",
       "      <th></th>\n",
       "      <th>v1</th>\n",
       "      <th>v2</th>\n",
       "      <th>v3</th>\n",
       "      <th>v4</th>\n",
       "      <th>v5</th>\n",
       "      <th>v6</th>\n",
       "      <th>v7</th>\n",
       "      <th>v8</th>\n",
       "      <th>v9</th>\n",
       "      <th>v10</th>\n",
       "      <th>v11</th>\n",
       "      <th>v12</th>\n",
       "      <th>v13</th>\n",
       "      <th>v14</th>\n",
       "      <th>v15</th>\n",
       "      <th>v16</th>\n",
       "      <th>v17</th>\n",
       "      <th>classLabel</th>\n",
       "    </tr>\n",
       "  </thead>\n",
       "  <tbody>\n",
       "    <tr>\n",
       "      <th>0</th>\n",
       "      <td>a</td>\n",
       "      <td>17,92</td>\n",
       "      <td>5,4e-05</td>\n",
       "      <td>u</td>\n",
       "      <td>-0,840182024985552</td>\n",
       "      <td>0,522882590622095</td>\n",
       "      <td>1,75</td>\n",
       "      <td>f</td>\n",
       "      <td>t</td>\n",
       "      <td>1</td>\n",
       "      <td>t</td>\n",
       "      <td>g</td>\n",
       "      <td>80.0</td>\n",
       "      <td>5</td>\n",
       "      <td>800000</td>\n",
       "      <td>t</td>\n",
       "      <td>0</td>\n",
       "      <td>0</td>\n",
       "    </tr>\n",
       "    <tr>\n",
       "      <th>1</th>\n",
       "      <td>b</td>\n",
       "      <td>16,92</td>\n",
       "      <td>3,35e-05</td>\n",
       "      <td>y</td>\n",
       "      <td>-2,15963506605476</td>\n",
       "      <td>0,774187133555115</td>\n",
       "      <td>0,29</td>\n",
       "      <td>f</td>\n",
       "      <td>f</td>\n",
       "      <td>0</td>\n",
       "      <td>f</td>\n",
       "      <td>s</td>\n",
       "      <td>200.0</td>\n",
       "      <td>0</td>\n",
       "      <td>2e+06</td>\n",
       "      <td>NaN</td>\n",
       "      <td>0</td>\n",
       "      <td>0</td>\n",
       "    </tr>\n",
       "    <tr>\n",
       "      <th>2</th>\n",
       "      <td>b</td>\n",
       "      <td>31,25</td>\n",
       "      <td>0,0001125</td>\n",
       "      <td>u</td>\n",
       "      <td>1,75068668089807</td>\n",
       "      <td>0,76036270650308</td>\n",
       "      <td>0</td>\n",
       "      <td>f</td>\n",
       "      <td>t</td>\n",
       "      <td>1</td>\n",
       "      <td>f</td>\n",
       "      <td>g</td>\n",
       "      <td>96.0</td>\n",
       "      <td>19</td>\n",
       "      <td>960000</td>\n",
       "      <td>t</td>\n",
       "      <td>0</td>\n",
       "      <td>0</td>\n",
       "    </tr>\n",
       "    <tr>\n",
       "      <th>3</th>\n",
       "      <td>a</td>\n",
       "      <td>48,17</td>\n",
       "      <td>0,0001335</td>\n",
       "      <td>u</td>\n",
       "      <td>4,17487068567425</td>\n",
       "      <td>0,888963139486792</td>\n",
       "      <td>0,335</td>\n",
       "      <td>f</td>\n",
       "      <td>f</td>\n",
       "      <td>0</td>\n",
       "      <td>f</td>\n",
       "      <td>g</td>\n",
       "      <td>0.0</td>\n",
       "      <td>120</td>\n",
       "      <td>0</td>\n",
       "      <td>NaN</td>\n",
       "      <td>0</td>\n",
       "      <td>0</td>\n",
       "    </tr>\n",
       "    <tr>\n",
       "      <th>4</th>\n",
       "      <td>b</td>\n",
       "      <td>32,33</td>\n",
       "      <td>0,00035</td>\n",
       "      <td>u</td>\n",
       "      <td>-3,78547915257514</td>\n",
       "      <td>0,489023844085239</td>\n",
       "      <td>0,5</td>\n",
       "      <td>f</td>\n",
       "      <td>f</td>\n",
       "      <td>0</td>\n",
       "      <td>t</td>\n",
       "      <td>g</td>\n",
       "      <td>232.0</td>\n",
       "      <td>0</td>\n",
       "      <td>2.32e+06</td>\n",
       "      <td>f</td>\n",
       "      <td>0</td>\n",
       "      <td>0</td>\n",
       "    </tr>\n",
       "  </tbody>\n",
       "</table>\n",
       "</div>"
      ],
      "text/plain": [
       "  v1     v2         v3 v4                  v5                 v6     v7 v8 v9  \\\n",
       "0  a  17,92    5,4e-05  u  -0,840182024985552  0,522882590622095   1,75  f  t   \n",
       "1  b  16,92   3,35e-05  y   -2,15963506605476  0,774187133555115   0,29  f  f   \n",
       "2  b  31,25  0,0001125  u    1,75068668089807   0,76036270650308      0  f  t   \n",
       "3  a  48,17  0,0001335  u    4,17487068567425  0,888963139486792  0,335  f  f   \n",
       "4  b  32,33    0,00035  u   -3,78547915257514  0,489023844085239    0,5  f  f   \n",
       "\n",
       "   v10 v11 v12    v13  v14       v15  v16  v17  classLabel  \n",
       "0    1   t   g   80.0    5    800000    t    0           0  \n",
       "1    0   f   s  200.0    0     2e+06  NaN    0           0  \n",
       "2    1   f   g   96.0   19    960000    t    0           0  \n",
       "3    0   f   g    0.0  120         0  NaN    0           0  \n",
       "4    0   t   g  232.0    0  2.32e+06    f    0           0  "
      ]
     },
     "execution_count": 9,
     "metadata": {},
     "output_type": "execute_result"
    },
    {
     "data": {
      "text/plain": [
       "(3900, 18)"
      ]
     },
     "execution_count": 9,
     "metadata": {},
     "output_type": "execute_result"
    },
    {
     "data": {
      "text/plain": [
       "array([0, 0, 0, ..., 1, 1, 1])"
      ]
     },
     "execution_count": 9,
     "metadata": {},
     "output_type": "execute_result"
    },
    {
     "data": {
      "text/plain": [
       "(3900,)"
      ]
     },
     "execution_count": 9,
     "metadata": {},
     "output_type": "execute_result"
    },
    {
     "name": "stdout",
     "output_type": "stream",
     "text": [
      "### TRAIN ###\n"
     ]
    },
    {
     "data": {
      "text/html": [
       "<div>\n",
       "<style scoped>\n",
       "    .dataframe tbody tr th:only-of-type {\n",
       "        vertical-align: middle;\n",
       "    }\n",
       "\n",
       "    .dataframe tbody tr th {\n",
       "        vertical-align: top;\n",
       "    }\n",
       "\n",
       "    .dataframe thead th {\n",
       "        text-align: right;\n",
       "    }\n",
       "</style>\n",
       "<table border=\"1\" class=\"dataframe\">\n",
       "  <thead>\n",
       "    <tr style=\"text-align: right;\">\n",
       "      <th></th>\n",
       "      <th>v1</th>\n",
       "      <th>v2</th>\n",
       "      <th>v3</th>\n",
       "      <th>v4</th>\n",
       "      <th>v5</th>\n",
       "      <th>v6</th>\n",
       "      <th>v7</th>\n",
       "      <th>v8</th>\n",
       "      <th>v9</th>\n",
       "      <th>v10</th>\n",
       "      <th>v11</th>\n",
       "      <th>v12</th>\n",
       "      <th>v13</th>\n",
       "      <th>v14</th>\n",
       "      <th>v15</th>\n",
       "      <th>v16</th>\n",
       "      <th>v17</th>\n",
       "      <th>classLabel</th>\n",
       "    </tr>\n",
       "  </thead>\n",
       "  <tbody>\n",
       "    <tr>\n",
       "      <th>0</th>\n",
       "      <td>a</td>\n",
       "      <td>17,92</td>\n",
       "      <td>5,4e-05</td>\n",
       "      <td>u</td>\n",
       "      <td>-0,840182024985552</td>\n",
       "      <td>0,522882590622095</td>\n",
       "      <td>1,75</td>\n",
       "      <td>f</td>\n",
       "      <td>t</td>\n",
       "      <td>1</td>\n",
       "      <td>t</td>\n",
       "      <td>g</td>\n",
       "      <td>80.0</td>\n",
       "      <td>5</td>\n",
       "      <td>800000.0</td>\n",
       "      <td>t</td>\n",
       "      <td>0</td>\n",
       "      <td>0</td>\n",
       "    </tr>\n",
       "    <tr>\n",
       "      <th>1</th>\n",
       "      <td>b</td>\n",
       "      <td>16,92</td>\n",
       "      <td>3,35e-05</td>\n",
       "      <td>y</td>\n",
       "      <td>-2,15963506605476</td>\n",
       "      <td>0,774187133555115</td>\n",
       "      <td>0,29</td>\n",
       "      <td>f</td>\n",
       "      <td>f</td>\n",
       "      <td>0</td>\n",
       "      <td>f</td>\n",
       "      <td>s</td>\n",
       "      <td>200.0</td>\n",
       "      <td>0</td>\n",
       "      <td>2000000.0</td>\n",
       "      <td>NaN</td>\n",
       "      <td>0</td>\n",
       "      <td>0</td>\n",
       "    </tr>\n",
       "    <tr>\n",
       "      <th>2</th>\n",
       "      <td>b</td>\n",
       "      <td>31,25</td>\n",
       "      <td>0,0001125</td>\n",
       "      <td>u</td>\n",
       "      <td>1,75068668089807</td>\n",
       "      <td>0,76036270650308</td>\n",
       "      <td>0</td>\n",
       "      <td>f</td>\n",
       "      <td>t</td>\n",
       "      <td>1</td>\n",
       "      <td>f</td>\n",
       "      <td>g</td>\n",
       "      <td>96.0</td>\n",
       "      <td>19</td>\n",
       "      <td>960000.0</td>\n",
       "      <td>t</td>\n",
       "      <td>0</td>\n",
       "      <td>0</td>\n",
       "    </tr>\n",
       "    <tr>\n",
       "      <th>3</th>\n",
       "      <td>a</td>\n",
       "      <td>48,17</td>\n",
       "      <td>0,0001335</td>\n",
       "      <td>u</td>\n",
       "      <td>4,17487068567425</td>\n",
       "      <td>0,888963139486792</td>\n",
       "      <td>0,335</td>\n",
       "      <td>f</td>\n",
       "      <td>f</td>\n",
       "      <td>0</td>\n",
       "      <td>f</td>\n",
       "      <td>g</td>\n",
       "      <td>0.0</td>\n",
       "      <td>120</td>\n",
       "      <td>0.0</td>\n",
       "      <td>NaN</td>\n",
       "      <td>0</td>\n",
       "      <td>0</td>\n",
       "    </tr>\n",
       "    <tr>\n",
       "      <th>4</th>\n",
       "      <td>b</td>\n",
       "      <td>32,33</td>\n",
       "      <td>0,00035</td>\n",
       "      <td>u</td>\n",
       "      <td>-3,78547915257514</td>\n",
       "      <td>0,489023844085239</td>\n",
       "      <td>0,5</td>\n",
       "      <td>f</td>\n",
       "      <td>f</td>\n",
       "      <td>0</td>\n",
       "      <td>t</td>\n",
       "      <td>g</td>\n",
       "      <td>232.0</td>\n",
       "      <td>0</td>\n",
       "      <td>2320000.0</td>\n",
       "      <td>f</td>\n",
       "      <td>0</td>\n",
       "      <td>0</td>\n",
       "    </tr>\n",
       "  </tbody>\n",
       "</table>\n",
       "</div>"
      ],
      "text/plain": [
       "  v1     v2         v3 v4                  v5                 v6     v7 v8 v9  \\\n",
       "0  a  17,92    5,4e-05  u  -0,840182024985552  0,522882590622095   1,75  f  t   \n",
       "1  b  16,92   3,35e-05  y   -2,15963506605476  0,774187133555115   0,29  f  f   \n",
       "2  b  31,25  0,0001125  u    1,75068668089807   0,76036270650308      0  f  t   \n",
       "3  a  48,17  0,0001335  u    4,17487068567425  0,888963139486792  0,335  f  f   \n",
       "4  b  32,33    0,00035  u   -3,78547915257514  0,489023844085239    0,5  f  f   \n",
       "\n",
       "   v10 v11 v12    v13  v14        v15  v16  v17  classLabel  \n",
       "0    1   t   g   80.0    5   800000.0    t    0           0  \n",
       "1    0   f   s  200.0    0  2000000.0  NaN    0           0  \n",
       "2    1   f   g   96.0   19   960000.0    t    0           0  \n",
       "3    0   f   g    0.0  120        0.0  NaN    0           0  \n",
       "4    0   t   g  232.0    0  2320000.0    f    0           0  "
      ]
     },
     "execution_count": 9,
     "metadata": {},
     "output_type": "execute_result"
    },
    {
     "data": {
      "text/plain": [
       "(3700, 18)"
      ]
     },
     "execution_count": 9,
     "metadata": {},
     "output_type": "execute_result"
    },
    {
     "data": {
      "text/plain": [
       "array([0, 0, 0, ..., 1, 1, 1])"
      ]
     },
     "execution_count": 9,
     "metadata": {},
     "output_type": "execute_result"
    },
    {
     "data": {
      "text/plain": [
       "(3700,)"
      ]
     },
     "execution_count": 9,
     "metadata": {},
     "output_type": "execute_result"
    },
    {
     "name": "stdout",
     "output_type": "stream",
     "text": [
      "### TEST ###\n"
     ]
    },
    {
     "data": {
      "text/html": [
       "<div>\n",
       "<style scoped>\n",
       "    .dataframe tbody tr th:only-of-type {\n",
       "        vertical-align: middle;\n",
       "    }\n",
       "\n",
       "    .dataframe tbody tr th {\n",
       "        vertical-align: top;\n",
       "    }\n",
       "\n",
       "    .dataframe thead th {\n",
       "        text-align: right;\n",
       "    }\n",
       "</style>\n",
       "<table border=\"1\" class=\"dataframe\">\n",
       "  <thead>\n",
       "    <tr style=\"text-align: right;\">\n",
       "      <th></th>\n",
       "      <th>v1</th>\n",
       "      <th>v2</th>\n",
       "      <th>v3</th>\n",
       "      <th>v4</th>\n",
       "      <th>v5</th>\n",
       "      <th>v6</th>\n",
       "      <th>v7</th>\n",
       "      <th>v8</th>\n",
       "      <th>v9</th>\n",
       "      <th>v10</th>\n",
       "      <th>v11</th>\n",
       "      <th>v12</th>\n",
       "      <th>v13</th>\n",
       "      <th>v14</th>\n",
       "      <th>v15</th>\n",
       "      <th>v16</th>\n",
       "      <th>v17</th>\n",
       "      <th>classLabel</th>\n",
       "    </tr>\n",
       "  </thead>\n",
       "  <tbody>\n",
       "    <tr>\n",
       "      <th>0</th>\n",
       "      <td>b</td>\n",
       "      <td>32,33</td>\n",
       "      <td>0,00075</td>\n",
       "      <td>u</td>\n",
       "      <td>0,840107307</td>\n",
       "      <td>0,544982291</td>\n",
       "      <td>1,585</td>\n",
       "      <td>t</td>\n",
       "      <td>f</td>\n",
       "      <td>0</td>\n",
       "      <td>t</td>\n",
       "      <td>s</td>\n",
       "      <td>420.0</td>\n",
       "      <td>0</td>\n",
       "      <td>4200000</td>\n",
       "      <td>NaN</td>\n",
       "      <td>1</td>\n",
       "      <td>0</td>\n",
       "    </tr>\n",
       "    <tr>\n",
       "      <th>1</th>\n",
       "      <td>b</td>\n",
       "      <td>23,58</td>\n",
       "      <td>0,000179</td>\n",
       "      <td>u</td>\n",
       "      <td>-4,174395711</td>\n",
       "      <td>0,864361709</td>\n",
       "      <td>0,54</td>\n",
       "      <td>f</td>\n",
       "      <td>f</td>\n",
       "      <td>0</td>\n",
       "      <td>t</td>\n",
       "      <td>g</td>\n",
       "      <td>136.0</td>\n",
       "      <td>1</td>\n",
       "      <td>1360000</td>\n",
       "      <td>NaN</td>\n",
       "      <td>0</td>\n",
       "      <td>0</td>\n",
       "    </tr>\n",
       "    <tr>\n",
       "      <th>2</th>\n",
       "      <td>b</td>\n",
       "      <td>36,42</td>\n",
       "      <td>7,50E-05</td>\n",
       "      <td>y</td>\n",
       "      <td>2,23222567</td>\n",
       "      <td>0,627475551</td>\n",
       "      <td>0,585</td>\n",
       "      <td>f</td>\n",
       "      <td>f</td>\n",
       "      <td>0</td>\n",
       "      <td>f</td>\n",
       "      <td>g</td>\n",
       "      <td>240.0</td>\n",
       "      <td>3</td>\n",
       "      <td>2400000</td>\n",
       "      <td>NaN</td>\n",
       "      <td>1</td>\n",
       "      <td>0</td>\n",
       "    </tr>\n",
       "    <tr>\n",
       "      <th>3</th>\n",
       "      <td>b</td>\n",
       "      <td>18,42</td>\n",
       "      <td>0,0010415</td>\n",
       "      <td>y</td>\n",
       "      <td>-2,469969629</td>\n",
       "      <td>0,846741022</td>\n",
       "      <td>0,125</td>\n",
       "      <td>t</td>\n",
       "      <td>f</td>\n",
       "      <td>0</td>\n",
       "      <td>f</td>\n",
       "      <td>g</td>\n",
       "      <td>120.0</td>\n",
       "      <td>375</td>\n",
       "      <td>1200000</td>\n",
       "      <td>NaN</td>\n",
       "      <td>0</td>\n",
       "      <td>0</td>\n",
       "    </tr>\n",
       "    <tr>\n",
       "      <th>4</th>\n",
       "      <td>b</td>\n",
       "      <td>24,5</td>\n",
       "      <td>0,0013335</td>\n",
       "      <td>y</td>\n",
       "      <td>-3,149422333</td>\n",
       "      <td>0,321087006</td>\n",
       "      <td>0,04</td>\n",
       "      <td>f</td>\n",
       "      <td>f</td>\n",
       "      <td>0</td>\n",
       "      <td>t</td>\n",
       "      <td>g</td>\n",
       "      <td>120.0</td>\n",
       "      <td>475</td>\n",
       "      <td>1200000</td>\n",
       "      <td>f</td>\n",
       "      <td>1</td>\n",
       "      <td>0</td>\n",
       "    </tr>\n",
       "  </tbody>\n",
       "</table>\n",
       "</div>"
      ],
      "text/plain": [
       "  v1     v2         v3 v4            v5           v6     v7 v8 v9  v10 v11  \\\n",
       "0  b  32,33    0,00075  u   0,840107307  0,544982291  1,585  t  f    0   t   \n",
       "1  b  23,58   0,000179  u  -4,174395711  0,864361709   0,54  f  f    0   t   \n",
       "2  b  36,42   7,50E-05  y    2,23222567  0,627475551  0,585  f  f    0   f   \n",
       "3  b  18,42  0,0010415  y  -2,469969629  0,846741022  0,125  t  f    0   f   \n",
       "4  b   24,5  0,0013335  y  -3,149422333  0,321087006   0,04  f  f    0   t   \n",
       "\n",
       "  v12    v13  v14      v15  v16  v17  classLabel  \n",
       "0   s  420.0    0  4200000  NaN    1           0  \n",
       "1   g  136.0    1  1360000  NaN    0           0  \n",
       "2   g  240.0    3  2400000  NaN    1           0  \n",
       "3   g  120.0  375  1200000  NaN    0           0  \n",
       "4   g  120.0  475  1200000    f    1           0  "
      ]
     },
     "execution_count": 9,
     "metadata": {},
     "output_type": "execute_result"
    },
    {
     "data": {
      "text/plain": [
       "(200, 18)"
      ]
     },
     "execution_count": 9,
     "metadata": {},
     "output_type": "execute_result"
    },
    {
     "data": {
      "text/plain": [
       "array([0, 0, 0, 0, 0, 0, 0, 0, 0, 0, 0, 0, 0, 0, 0, 0, 0, 0, 0, 0, 0, 0,\n",
       "       0, 0, 0, 0, 0, 0, 0, 0, 0, 1, 1, 1, 1, 1, 1, 1, 1, 1, 1, 1, 1, 1,\n",
       "       1, 1, 1, 1, 1, 1, 1, 1, 1, 1, 1, 1, 1, 1, 1, 1, 1, 1, 0, 0, 0, 0,\n",
       "       0, 0, 0, 0, 0, 0, 0, 0, 0, 0, 0, 0, 0, 0, 0, 0, 0, 0, 0, 0, 0, 0,\n",
       "       0, 0, 0, 0, 0, 0, 0, 0, 0, 0, 0, 0, 1, 1, 1, 1, 1, 1, 1, 1, 1, 1,\n",
       "       1, 1, 1, 1, 1, 1, 1, 1, 1, 1, 1, 1, 1, 1, 1, 1, 1, 1, 1, 1, 1, 0,\n",
       "       0, 0, 0, 0, 0, 0, 0, 0, 0, 0, 0, 0, 0, 0, 0, 0, 0, 0, 0, 0, 0, 0,\n",
       "       0, 0, 0, 0, 0, 0, 0, 0, 0, 0, 0, 0, 0, 0, 0, 1, 1, 1, 1, 1, 1, 1,\n",
       "       1, 1, 1, 1, 1, 1, 1, 1, 1, 1, 1, 1, 1, 1, 1, 1, 1, 1, 1, 1, 1, 1,\n",
       "       1, 1])"
      ]
     },
     "execution_count": 9,
     "metadata": {},
     "output_type": "execute_result"
    },
    {
     "data": {
      "text/plain": [
       "(200,)"
      ]
     },
     "execution_count": 9,
     "metadata": {},
     "output_type": "execute_result"
    }
   ],
   "source": [
    "#for df in input_dfs: \n",
    "#    df.head()\n",
    "#    df.shape\n",
    "\n",
    "# Check newly encoded target\n",
    "print(\"### COMBINED ###\")\n",
    "X_y_data.head()\n",
    "X_y_data.shape\n",
    "\n",
    "y_combined\n",
    "y_combined.shape\n",
    "\n",
    "print(\"### TRAIN ###\")\n",
    "X_y_train.head()\n",
    "X_y_train.shape\n",
    "\n",
    "y_train\n",
    "y_train.shape\n",
    "\n",
    "print(\"### TEST ###\")\n",
    "X_y_test.head()\n",
    "X_y_test.shape\n",
    "\n",
    "y_test\n",
    "y_test.shape"
   ]
  },
  {
   "cell_type": "code",
   "execution_count": 10,
   "metadata": {},
   "outputs": [
    {
     "data": {
      "text/plain": [
       "('Combined Features & Target: X_y_data Type', pandas.core.frame.DataFrame)"
      ]
     },
     "execution_count": 10,
     "metadata": {},
     "output_type": "execute_result"
    },
    {
     "data": {
      "text/plain": [
       "('Combined Target: y_combined Type', numpy.ndarray)"
      ]
     },
     "execution_count": 10,
     "metadata": {},
     "output_type": "execute_result"
    },
    {
     "data": {
      "text/plain": [
       "('Train Features & Target: X_y_train Type', pandas.core.frame.DataFrame)"
      ]
     },
     "execution_count": 10,
     "metadata": {},
     "output_type": "execute_result"
    },
    {
     "data": {
      "text/plain": [
       "('Train Target: y_train Type', numpy.ndarray)"
      ]
     },
     "execution_count": 10,
     "metadata": {},
     "output_type": "execute_result"
    },
    {
     "data": {
      "text/plain": [
       "('Test Features & Target: X_y_test Type', pandas.core.frame.DataFrame)"
      ]
     },
     "execution_count": 10,
     "metadata": {},
     "output_type": "execute_result"
    },
    {
     "data": {
      "text/plain": [
       "('Test Target: y_test Type', numpy.ndarray)"
      ]
     },
     "execution_count": 10,
     "metadata": {},
     "output_type": "execute_result"
    }
   ],
   "source": [
    "\"Combined Features & Target: X_y_data Type\", type(X_y_data)\n",
    "\"Combined Target: y_combined Type\", type(y_combined)\n",
    "\n",
    "\"Train Features & Target: X_y_train Type\", type(X_y_train)\n",
    "\"Train Target: y_train Type\", type(y_train)\n",
    "\n",
    "\"Test Features & Target: X_y_test Type\", type(X_y_test)\n",
    "\"Test Target: y_test Type\", type(y_test)"
   ]
  },
  {
   "cell_type": "code",
   "execution_count": null,
   "metadata": {},
   "outputs": [],
   "source": []
  },
  {
   "cell_type": "markdown",
   "metadata": {},
   "source": [
    "#### ii) Check data types of observations in all datasets"
   ]
  },
  {
   "cell_type": "code",
   "execution_count": 31,
   "metadata": {},
   "outputs": [
    {
     "name": "stdout",
     "output_type": "stream",
     "text": [
      "### COMBINED ###\n"
     ]
    },
    {
     "data": {
      "text/plain": [
       "v1             object\n",
       "v2             object\n",
       "v3             object\n",
       "v4             object\n",
       "v5             object\n",
       "v6             object\n",
       "v7             object\n",
       "v8             object\n",
       "v9             object\n",
       "v10             int64\n",
       "v11            object\n",
       "v12            object\n",
       "v13           float64\n",
       "v14             int64\n",
       "v15            object\n",
       "v16            object\n",
       "v17             int64\n",
       "classLabel      int64\n",
       "dtype: object"
      ]
     },
     "execution_count": 31,
     "metadata": {},
     "output_type": "execute_result"
    },
    {
     "name": "stdout",
     "output_type": "stream",
     "text": [
      "### TRAIN ###\n"
     ]
    },
    {
     "data": {
      "text/plain": [
       "v1             object\n",
       "v2             object\n",
       "v3             object\n",
       "v4             object\n",
       "v5             object\n",
       "v6             object\n",
       "v7             object\n",
       "v8             object\n",
       "v9             object\n",
       "v10             int64\n",
       "v11            object\n",
       "v12            object\n",
       "v13           float64\n",
       "v14             int64\n",
       "v15           float64\n",
       "v16            object\n",
       "v17             int64\n",
       "classLabel      int64\n",
       "dtype: object"
      ]
     },
     "execution_count": 31,
     "metadata": {},
     "output_type": "execute_result"
    },
    {
     "name": "stdout",
     "output_type": "stream",
     "text": [
      "### TEST ###\n"
     ]
    },
    {
     "data": {
      "text/plain": [
       "v1             object\n",
       "v2             object\n",
       "v3             object\n",
       "v4             object\n",
       "v5             object\n",
       "v6             object\n",
       "v7             object\n",
       "v8             object\n",
       "v9             object\n",
       "v10             int64\n",
       "v11            object\n",
       "v12            object\n",
       "v13           float64\n",
       "v14             int64\n",
       "v15            object\n",
       "v16            object\n",
       "v17             int64\n",
       "classLabel      int64\n",
       "dtype: object"
      ]
     },
     "execution_count": 31,
     "metadata": {},
     "output_type": "execute_result"
    },
    {
     "name": "stdout",
     "output_type": "stream",
     "text": [
      "### COMPARE TRAIN VS TEST ###\n"
     ]
    },
    {
     "data": {
      "text/plain": [
       "v1             True\n",
       "v2             True\n",
       "v3             True\n",
       "v4             True\n",
       "v5             True\n",
       "v6             True\n",
       "v7             True\n",
       "v8             True\n",
       "v9             True\n",
       "v10            True\n",
       "v11            True\n",
       "v12            True\n",
       "v13            True\n",
       "v14            True\n",
       "v15           False\n",
       "v16            True\n",
       "v17            True\n",
       "classLabel     True\n",
       "dtype: bool"
      ]
     },
     "execution_count": 31,
     "metadata": {},
     "output_type": "execute_result"
    }
   ],
   "source": [
    "print(\"### COMBINED ###\")\n",
    "X_y_data.dtypes\n",
    "print(\"### TRAIN ###\")\n",
    "X_y_train.dtypes\n",
    "print(\"### TEST ###\")\n",
    "X_y_test.dtypes\n",
    "print(\"### COMPARE TRAIN VS TEST ###\")\n",
    "X_y_train.dtypes == X_y_test.dtypes"
   ]
  },
  {
   "cell_type": "code",
   "execution_count": null,
   "metadata": {},
   "outputs": [],
   "source": []
  },
  {
   "cell_type": "markdown",
   "metadata": {},
   "source": [
    "### iii) Actions from first inspection"
   ]
  },
  {
   "cell_type": "code",
   "execution_count": null,
   "metadata": {},
   "outputs": [],
   "source": [
    "# Convert comma floats to point floats\n",
    "conversion_cols = ['v2', 'v3', 'v5', 'v6', 'v7', 'v15']\n",
    "\n",
    "for df in input_dfs:\n",
    "    for col in conversion_cols: \n",
    "    \n",
    "        df[col] = df[conversion_cols].apply(lambda x: pd.to_numeric(x.astype(str)\n",
    "                                                                     .str.replace(',','.'),\n",
    "                                                                     errors='coerce'))"
   ]
  },
  {
   "cell_type": "code",
   "execution_count": null,
   "metadata": {},
   "outputs": [],
   "source": [
    "#for df in input_dfs: \n",
    "#    df.drop(df.columns[df.columns.str.contains('v15')], 1, inplace=True)"
   ]
  },
  {
   "cell_type": "code",
   "execution_count": null,
   "metadata": {},
   "outputs": [],
   "source": []
  },
  {
   "cell_type": "markdown",
   "metadata": {},
   "source": [
    "## f) Re-Save Updated Datasets"
   ]
  },
  {
   "cell_type": "code",
   "execution_count": null,
   "metadata": {},
   "outputs": [],
   "source": [
    "# Pickle combined set\n",
    "X_y_data.to_pickle(relative_filepath + \"data/interim/X_y_data.pkl\")\n",
    "X_combined.to_pickle(relative_filepath + \"data/interim/X_combined.pkl\")\n",
    "y_combined.to_pickle(relative_filepath + \"data/interim/y_combined.pkl\")\n",
    "\n",
    "# Pickle training set\n",
    "X_y_train.to_pickle(relative_filepath + \"data/interim/X_y_train.pkl\")\n",
    "X_train.to_pickle(relative_filepath + \"data/interim/X_train.pkl\")\n",
    "y_train.to_pickle(relative_filepath + \"data/interim/y_train.pkl\")\n",
    "\n",
    "# Pickle test set\n",
    "X_y_test.to_pickle(relative_filepath + \"data/interim/X_y_test.pkl\")\n",
    "X_test.to_pickle(relative_filepath + \"data/interim/X_test.pkl\")\n",
    "y_test.to_pickle(relative_filepath + \"data/interim/y_test.pkl\")"
   ]
  }
 ],
 "metadata": {
  "kernelspec": {
   "display_name": "Python 3",
   "language": "python",
   "name": "python3"
  },
  "language_info": {
   "codemirror_mode": {
    "name": "ipython",
    "version": 3
   },
   "file_extension": ".py",
   "mimetype": "text/x-python",
   "name": "python",
   "nbconvert_exporter": "python",
   "pygments_lexer": "ipython3",
   "version": "3.7.6"
  }
 },
 "nbformat": 4,
 "nbformat_minor": 4
}
