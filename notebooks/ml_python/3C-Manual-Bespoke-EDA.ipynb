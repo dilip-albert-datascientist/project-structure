{
 "cells": [
  {
   "cell_type": "code",
   "execution_count": 1,
   "metadata": {},
   "outputs": [],
   "source": [
    "# Show ALL outputs in cell, not only last result\n",
    "from IPython.core.interactiveshell import InteractiveShell\n",
    "InteractiveShell.ast_node_interactivity = \"all\""
   ]
  },
  {
   "cell_type": "code",
   "execution_count": 2,
   "metadata": {},
   "outputs": [],
   "source": [
    "relative_filepath = \"../../\""
   ]
  },
  {
   "cell_type": "code",
   "execution_count": 3,
   "metadata": {},
   "outputs": [],
   "source": [
    "# Set relative path mapping for module imports\n",
    "import sys\n",
    "\n",
    "sys.path.append(relative_filepath)\n",
    "\n",
    "#for path in sys.path:\n",
    "#    print(path)"
   ]
  },
  {
   "cell_type": "code",
   "execution_count": 4,
   "metadata": {},
   "outputs": [],
   "source": [
    "# External Dependencies\n",
    "import numpy as np\n",
    "import pandas as pd"
   ]
  },
  {
   "cell_type": "code",
   "execution_count": 5,
   "metadata": {},
   "outputs": [],
   "source": [
    "# Read in pickled combined data\n",
    "X_y_data = pd.read_pickle(relative_filepath + \"data/interim/X_y_data.pkl\")\n",
    "X_combined = pd.read_pickle(relative_filepath + \"data/interim/X_combined.pkl\")\n",
    "y_combined = pd.read_pickle(relative_filepath + \"data/interim/y_combined.pkl\")\n",
    "\n",
    "# Read in pickled train data\n",
    "X_y_train = pd.read_pickle(relative_filepath + \"data/interim/X_y_train.pkl\")\n",
    "X_train = pd.read_pickle(relative_filepath + \"data/interim/X_train.pkl\")\n",
    "y_train = pd.read_pickle(relative_filepath + \"data/interim/y_train.pkl\")\n",
    "\n",
    "# Read in pickled test data\n",
    "X_y_test = pd.read_pickle(relative_filepath + \"data/interim/X_y_test.pkl\")\n",
    "X_test = pd.read_pickle(relative_filepath + \"data/interim/X_test.pkl\")\n",
    "y_test = pd.read_pickle(relative_filepath + \"data/interim/y_test.pkl\")"
   ]
  },
  {
   "cell_type": "code",
   "execution_count": 6,
   "metadata": {},
   "outputs": [
    {
     "data": {
      "text/html": [
       "<div>\n",
       "<style scoped>\n",
       "    .dataframe tbody tr th:only-of-type {\n",
       "        vertical-align: middle;\n",
       "    }\n",
       "\n",
       "    .dataframe tbody tr th {\n",
       "        vertical-align: top;\n",
       "    }\n",
       "\n",
       "    .dataframe thead th {\n",
       "        text-align: right;\n",
       "    }\n",
       "</style>\n",
       "<table border=\"1\" class=\"dataframe\">\n",
       "  <thead>\n",
       "    <tr style=\"text-align: right;\">\n",
       "      <th></th>\n",
       "      <th>v1</th>\n",
       "      <th>v2</th>\n",
       "      <th>v3</th>\n",
       "      <th>v4</th>\n",
       "      <th>v5</th>\n",
       "      <th>v6</th>\n",
       "      <th>v7</th>\n",
       "      <th>v8</th>\n",
       "      <th>v9</th>\n",
       "      <th>v10</th>\n",
       "      <th>v11</th>\n",
       "      <th>v12</th>\n",
       "      <th>v13</th>\n",
       "      <th>v14</th>\n",
       "      <th>v15</th>\n",
       "      <th>v16</th>\n",
       "      <th>v17</th>\n",
       "      <th>classLabel</th>\n",
       "    </tr>\n",
       "  </thead>\n",
       "  <tbody>\n",
       "    <tr>\n",
       "      <th>0</th>\n",
       "      <td>a</td>\n",
       "      <td>17,92</td>\n",
       "      <td>5,4e-05</td>\n",
       "      <td>u</td>\n",
       "      <td>-0,840182024985552</td>\n",
       "      <td>0,522882590622095</td>\n",
       "      <td>1,75</td>\n",
       "      <td>f</td>\n",
       "      <td>t</td>\n",
       "      <td>1</td>\n",
       "      <td>t</td>\n",
       "      <td>g</td>\n",
       "      <td>80.0</td>\n",
       "      <td>5</td>\n",
       "      <td>800000</td>\n",
       "      <td>t</td>\n",
       "      <td>0</td>\n",
       "      <td>no.</td>\n",
       "    </tr>\n",
       "    <tr>\n",
       "      <th>1</th>\n",
       "      <td>b</td>\n",
       "      <td>16,92</td>\n",
       "      <td>3,35e-05</td>\n",
       "      <td>y</td>\n",
       "      <td>-2,15963506605476</td>\n",
       "      <td>0,774187133555115</td>\n",
       "      <td>0,29</td>\n",
       "      <td>f</td>\n",
       "      <td>f</td>\n",
       "      <td>0</td>\n",
       "      <td>f</td>\n",
       "      <td>s</td>\n",
       "      <td>200.0</td>\n",
       "      <td>0</td>\n",
       "      <td>2e+06</td>\n",
       "      <td>NaN</td>\n",
       "      <td>0</td>\n",
       "      <td>no.</td>\n",
       "    </tr>\n",
       "    <tr>\n",
       "      <th>2</th>\n",
       "      <td>b</td>\n",
       "      <td>31,25</td>\n",
       "      <td>0,0001125</td>\n",
       "      <td>u</td>\n",
       "      <td>1,75068668089807</td>\n",
       "      <td>0,76036270650308</td>\n",
       "      <td>0</td>\n",
       "      <td>f</td>\n",
       "      <td>t</td>\n",
       "      <td>1</td>\n",
       "      <td>f</td>\n",
       "      <td>g</td>\n",
       "      <td>96.0</td>\n",
       "      <td>19</td>\n",
       "      <td>960000</td>\n",
       "      <td>t</td>\n",
       "      <td>0</td>\n",
       "      <td>no.</td>\n",
       "    </tr>\n",
       "    <tr>\n",
       "      <th>3</th>\n",
       "      <td>a</td>\n",
       "      <td>48,17</td>\n",
       "      <td>0,0001335</td>\n",
       "      <td>u</td>\n",
       "      <td>4,17487068567425</td>\n",
       "      <td>0,888963139486792</td>\n",
       "      <td>0,335</td>\n",
       "      <td>f</td>\n",
       "      <td>f</td>\n",
       "      <td>0</td>\n",
       "      <td>f</td>\n",
       "      <td>g</td>\n",
       "      <td>0.0</td>\n",
       "      <td>120</td>\n",
       "      <td>0</td>\n",
       "      <td>NaN</td>\n",
       "      <td>0</td>\n",
       "      <td>no.</td>\n",
       "    </tr>\n",
       "    <tr>\n",
       "      <th>4</th>\n",
       "      <td>b</td>\n",
       "      <td>32,33</td>\n",
       "      <td>0,00035</td>\n",
       "      <td>u</td>\n",
       "      <td>-3,78547915257514</td>\n",
       "      <td>0,489023844085239</td>\n",
       "      <td>0,5</td>\n",
       "      <td>f</td>\n",
       "      <td>f</td>\n",
       "      <td>0</td>\n",
       "      <td>t</td>\n",
       "      <td>g</td>\n",
       "      <td>232.0</td>\n",
       "      <td>0</td>\n",
       "      <td>2.32e+06</td>\n",
       "      <td>f</td>\n",
       "      <td>0</td>\n",
       "      <td>no.</td>\n",
       "    </tr>\n",
       "  </tbody>\n",
       "</table>\n",
       "</div>"
      ],
      "text/plain": [
       "  v1     v2         v3 v4                  v5                 v6     v7 v8 v9  \\\n",
       "0  a  17,92    5,4e-05  u  -0,840182024985552  0,522882590622095   1,75  f  t   \n",
       "1  b  16,92   3,35e-05  y   -2,15963506605476  0,774187133555115   0,29  f  f   \n",
       "2  b  31,25  0,0001125  u    1,75068668089807   0,76036270650308      0  f  t   \n",
       "3  a  48,17  0,0001335  u    4,17487068567425  0,888963139486792  0,335  f  f   \n",
       "4  b  32,33    0,00035  u   -3,78547915257514  0,489023844085239    0,5  f  f   \n",
       "\n",
       "   v10 v11 v12    v13  v14       v15  v16  v17 classLabel  \n",
       "0    1   t   g   80.0    5    800000    t    0        no.  \n",
       "1    0   f   s  200.0    0     2e+06  NaN    0        no.  \n",
       "2    1   f   g   96.0   19    960000    t    0        no.  \n",
       "3    0   f   g    0.0  120         0  NaN    0        no.  \n",
       "4    0   t   g  232.0    0  2.32e+06    f    0        no.  "
      ]
     },
     "execution_count": 6,
     "metadata": {},
     "output_type": "execute_result"
    },
    {
     "data": {
      "text/plain": [
       "(3900, 18)"
      ]
     },
     "execution_count": 6,
     "metadata": {},
     "output_type": "execute_result"
    }
   ],
   "source": [
    "# Recap data structure\n",
    "X_y_data.head()\n",
    "X_y_data.shape\n",
    "\n",
    "target = \"classLabel\"\n",
    "\n",
    "input_dfs = [X_y_data,\n",
    "             X_combined,\n",
    "             X_y_train,\n",
    "             X_train,\n",
    "             X_y_test,\n",
    "             X_test]"
   ]
  },
  {
   "cell_type": "code",
   "execution_count": null,
   "metadata": {},
   "outputs": [],
   "source": []
  },
  {
   "cell_type": "markdown",
   "metadata": {},
   "source": [
    "## Manual Bespoke EDA"
   ]
  },
  {
   "cell_type": "code",
   "execution_count": null,
   "metadata": {},
   "outputs": [],
   "source": [
    "0. Questions To Ask Before You Download the Data\n",
    "I called this one step 0 because it happens before you import data into Python. \n",
    "It’s easy to forget, but if you can answer these questions it can save you a lot of time and frustration down the road.\n",
    "How was this data collected/where did it come from?\n",
    "Why am I interested in this data?\n",
    "What would be the target variable of interest? (if applicable)\n",
    "Is this data from a reputable source?\n",
    "Is there enough data here to make an ML model?\n",
    "Have other people conducted a similar analysis/modeling project on this dataset? Do I want to be able to learn from their conclusions or create a novel project?\n",
    "Is there a data dictionary for the dataset? Is it complete?\n",
    "Are there any additional challenges or problems that I anticipate if I use this data?\n",
    "It’s helpful to use these questions like a filter when you have a choice on what dataset to use.\n",
    "It’s really tough to realize halfway through a project that you picked a bad dataset."
   ]
  },
  {
   "cell_type": "code",
   "execution_count": null,
   "metadata": {},
   "outputs": [],
   "source": []
  },
  {
   "cell_type": "code",
   "execution_count": null,
   "metadata": {},
   "outputs": [],
   "source": [
    "1. Data Structure & Distributions"
   ]
  },
  {
   "cell_type": "code",
   "execution_count": null,
   "metadata": {},
   "outputs": [],
   "source": [
    "X_y_data.shape\n",
    "X_y_data.info()"
   ]
  },
  {
   "cell_type": "code",
   "execution_count": null,
   "metadata": {},
   "outputs": [],
   "source": [
    "Questions to answer:\n",
    "How many features do you have?\n",
    "How many observations do you have?\n",
    "What is the data type of each feature?\n",
    "From what you know about the features of your dataset, do the data types make sense? Do you need to change any?\n",
    "Example: Your data has a Customer ID number for every row, and each number is five digits long, stored as an integer. You will not ever be aggregating or analyzing the Customer ID like an integer, so you should change it to the “object” data type.\n",
    "Do you have null values? (to be fixed later)\n",
    "How much memory does this dataset use? Could this pose a problem for you later on?\n"
   ]
  },
  {
   "cell_type": "code",
   "execution_count": null,
   "metadata": {},
   "outputs": [],
   "source": [
    "X_y_data.hist(figsize=(15,15)) \n",
    "#set a large figsize if you have > 9 variables\n",
    "plt.tight_layout()\n",
    "plt.show()"
   ]
  },
  {
   "cell_type": "code",
   "execution_count": null,
   "metadata": {},
   "outputs": [],
   "source": [
    "Questions to answer:\n",
    "What is the distribution of each variable?\n",
    "Do there appear to be outliers? (to be fixed later)\n",
    "Think about what the variables mean and what the histograms say about their values and their spread — are there any surprises?"
   ]
  },
  {
   "cell_type": "code",
   "execution_count": null,
   "metadata": {},
   "outputs": [],
   "source": [
    "X_y_data.describe()"
   ]
  },
  {
   "cell_type": "code",
   "execution_count": null,
   "metadata": {},
   "outputs": [],
   "source": [
    "X_y_data.describe(include='all').T"
   ]
  },
  {
   "cell_type": "code",
   "execution_count": null,
   "metadata": {},
   "outputs": [],
   "source": [
    "Questions to answer:\n",
    "Are the max/min values reasonable for the variables? Do you see any values that look like errors?\n",
    "What is the mean for each variable? What do the means tell you about your dataset as a whole?"
   ]
  },
  {
   "cell_type": "code",
   "execution_count": null,
   "metadata": {},
   "outputs": [],
   "source": []
  },
  {
   "cell_type": "code",
   "execution_count": null,
   "metadata": {},
   "outputs": [],
   "source": [
    "2. Null Values & Duplicates\n"
   ]
  },
  {
   "cell_type": "code",
   "execution_count": null,
   "metadata": {},
   "outputs": [],
   "source": [
    "X_y_data.duplicated().sum()"
   ]
  },
  {
   "cell_type": "code",
   "execution_count": null,
   "metadata": {},
   "outputs": [],
   "source": [
    "#X_y_data.drop_duplicates(inplace=True)"
   ]
  },
  {
   "cell_type": "code",
   "execution_count": null,
   "metadata": {},
   "outputs": [],
   "source": []
  },
  {
   "cell_type": "code",
   "execution_count": null,
   "metadata": {},
   "outputs": [],
   "source": [
    "null = df.isna().sum()/len(df)\n",
    "null[null > 0].sort_values()"
   ]
  },
  {
   "cell_type": "code",
   "execution_count": null,
   "metadata": {},
   "outputs": [],
   "source": [
    "Questions to answer:\n",
    "Is the null value a result of the way data was recorded?\n",
    "Example: Survey response data is recorded in columns as “yes”, “no,” and a null value for “prefer not to answer.” In this case, all nulls can be filled in with a single value like “no answer.”\n",
    "Can you drop the rows with null values without it significantly affecting your analysis?\n",
    "Looking at the distributions of the variables, can you justify filling in the missing values with the mean or median for that variable?\n",
    "Be careful! You have to deal with missing values somehow, but sometimes it is better to drop rows rather than tinker with the original data because if you put bad data into a model you cannot get meaningful results.\n",
    "If your data is time-series data, can you fill the missing values with interpolation?\n",
    "Are there so many missing values for a variable that you should drop that variable from your dataset?"
   ]
  },
  {
   "cell_type": "code",
   "execution_count": null,
   "metadata": {},
   "outputs": [],
   "source": []
  },
  {
   "cell_type": "code",
   "execution_count": null,
   "metadata": {},
   "outputs": [],
   "source": [
    "3. Outliers"
   ]
  },
  {
   "cell_type": "code",
   "execution_count": null,
   "metadata": {},
   "outputs": [],
   "source": [
    "continuous_labels = list(continuous.columns)\n",
    "i = 1\n",
    "plt.figure(figsize=(15,30))\n",
    "for var in continuous_labels: #plotting boxplot for each variable\n",
    "   plt.subplot(round(len(continuous_labels),0)/3+3,4,i)\n",
    "   plt.boxplot(continuous[var],whis=5)\n",
    "   plt.title(var)\n",
    "   i+=1\n",
    "plt.tight_layout()\n",
    "plt.show()"
   ]
  },
  {
   "cell_type": "code",
   "execution_count": null,
   "metadata": {},
   "outputs": [],
   "source": [
    "Questions to ask:\n",
    "Do you have outliers (represented as dark circles on the boxplots) in your variables?\n",
    "Why do you think you have outliers?\n",
    "Do the outliers represent real observations (i.e. not errors)?\n",
    "Should you exclude these observations? If not, should you winsorize the values?\n",
    "\n",
    "This is a tricky question. I typically identify my outliers and then I leave them be until I have tried out some models. \n",
    "If I find the models have low accuracy, I will go back and re-evaluate whether I should winsorize the variable(s) with outliers (if I have no other options)."
   ]
  },
  {
   "cell_type": "code",
   "execution_count": null,
   "metadata": {},
   "outputs": [],
   "source": []
  },
  {
   "cell_type": "code",
   "execution_count": null,
   "metadata": {},
   "outputs": [],
   "source": [
    "4. Correlations/Relationships"
   ]
  },
  {
   "cell_type": "code",
   "execution_count": null,
   "metadata": {},
   "outputs": [],
   "source": [
    "df.corr()"
   ]
  },
  {
   "cell_type": "code",
   "execution_count": null,
   "metadata": {},
   "outputs": [],
   "source": [
    "Questions to ask:\n",
    "Which variables are most correlated with your target variable? (If applicable)\n",
    "Is there multicollinearity? (Two features that have a correlation > 0.8) How will this affect your model?\n",
    "Do you have variables that represent the same information? Can one be dropped?"
   ]
  },
  {
   "cell_type": "code",
   "execution_count": null,
   "metadata": {},
   "outputs": [],
   "source": []
  },
  {
   "cell_type": "code",
   "execution_count": null,
   "metadata": {},
   "outputs": [],
   "source": [
    "5. Feature Engineering"
   ]
  },
  {
   "cell_type": "code",
   "execution_count": null,
   "metadata": {},
   "outputs": [],
   "source": [
    "Variable Transformation"
   ]
  },
  {
   "cell_type": "code",
   "execution_count": null,
   "metadata": {},
   "outputs": [],
   "source": [
    "The most common transformation is one-hot-encoding to transform categorical variables into numeric — binary, to be specific — variables. \n",
    "This is necessary because machine learning models cannot handle “object” data types. Pandas makes this easy to do:\n",
    "\n",
    "new_df = pd.get_dummies(df,drop_first=True)"
   ]
  },
  {
   "cell_type": "code",
   "execution_count": null,
   "metadata": {},
   "outputs": [],
   "source": [
    "Another common transformation (which is necessary for some models) is standardizing variables. \n",
    "Here is the code for that:\n",
    "\n",
    "from sklearn.preprocessing import StandardScaler\n",
    "X_std = StandardScaler().fit_transform(X)"
   ]
  },
  {
   "cell_type": "code",
   "execution_count": null,
   "metadata": {},
   "outputs": [],
   "source": [
    "Finally, you may want to transform variables so that they follow a normal distribution, depending on the model you are using. \n",
    "For this, you can try np.log() , np.sqrt() , the box-cox transformation, and other functions to transform your data to better fit a normal distribution."
   ]
  },
  {
   "cell_type": "code",
   "execution_count": null,
   "metadata": {},
   "outputs": [],
   "source": []
  },
  {
   "cell_type": "code",
   "execution_count": null,
   "metadata": {},
   "outputs": [],
   "source": [
    "Creating New Features\n",
    "This is the hardest section and requires the most critical thinking, in my opinion. \n",
    "There isn’t any code I can give that will apply to lots of projects — it really depends on the dataset.\n",
    "Here are a couple of cases where you may want to try creating a new feature:\n",
    "You suspect that the relationship of an outcome and a feature depends on a second feature → Create an interaction variable\n",
    "You want to create linear relationships → Create quadratic or higher level functions\n",
    "You can think of variables/information that is missing from your dataset → Create this variable using a function of variables you do have"
   ]
  },
  {
   "cell_type": "code",
   "execution_count": null,
   "metadata": {},
   "outputs": [],
   "source": []
  },
  {
   "cell_type": "code",
   "execution_count": 8,
   "metadata": {},
   "outputs": [],
   "source": [
    "import seaborn as sns"
   ]
  },
  {
   "cell_type": "code",
   "execution_count": null,
   "metadata": {},
   "outputs": [],
   "source": [
    "pairplot_vars = ['mean radius', 'mean texture']"
   ]
  },
  {
   "cell_type": "code",
   "execution_count": 19,
   "metadata": {},
   "outputs": [
    {
     "data": {
      "text/plain": [
       "<seaborn.axisgrid.PairGrid at 0x7f85b4846d50>"
      ]
     },
     "execution_count": 19,
     "metadata": {},
     "output_type": "execute_result"
    },
    {
     "data": {
      "image/png": "[encoded data removed]",
      "text/plain": [
       "<Figure size 402.375x360 with 6 Axes>"
      ]
     },
     "metadata": {
      "needs_background": "light"
     },
     "output_type": "display_data"
    }
   ],
   "source": [
    "# Pairplot scatter\n",
    "sns.pairplot(X_y_data,\n",
    "             vars = pairplot_vars,\n",
    "             hue = target,\n",
    "             diag_kind = 'kde')"
   ]
  },
  {
   "cell_type": "code",
   "execution_count": null,
   "metadata": {},
   "outputs": [],
   "source": []
  }
 ],
 "metadata": {
  "kernelspec": {
   "display_name": "Python 3",
   "language": "python",
   "name": "python3"
  },
  "language_info": {
   "codemirror_mode": {
    "name": "ipython",
    "version": 3
   },
   "file_extension": ".py",
   "mimetype": "text/x-python",
   "name": "python",
   "nbconvert_exporter": "python",
   "pygments_lexer": "ipython3",
   "version": "3.7.6"
  }
 },
 "nbformat": 4,
 "nbformat_minor": 4
}
